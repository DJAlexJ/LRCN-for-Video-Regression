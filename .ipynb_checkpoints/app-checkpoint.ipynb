{
 "cells": [
  {
   "cell_type": "code",
   "execution_count": 1,
   "metadata": {},
   "outputs": [
    {
     "name": "stdout",
     "output_type": "stream",
     "text": [
      "Serving on http://0.0.0.0:5000\n",
      "----------GETTING PREDICTION-----------\n",
      "Moviepy - Running:\n",
      ">>> \"+ \" \".join(cmd)\n",
      "Moviepy - Command successful\n",
      "Extracting frames from 0.mp4\n",
      "0 873\n",
      "predictions/trailer_0/0/0000000000.jpg\n",
      "predictions/trailer_0/0/0000000045.jpg\n",
      "predictions/trailer_0/0/0000000090.jpg\n",
      "predictions/trailer_0/0/0000000135.jpg\n",
      "predictions/trailer_0/0/0000000180.jpg\n",
      "predictions/trailer_0/0/0000000225.jpg\n",
      "predictions/trailer_0/0/0000000270.jpg\n",
      "predictions/trailer_0/0/0000000315.jpg\n",
      "predictions/trailer_0/0/0000000360.jpg\n",
      "predictions/trailer_0/0/0000000405.jpg\n",
      "predictions/trailer_0/0/0000000450.jpg\n",
      "predictions/trailer_0/0/0000000495.jpg\n",
      "predictions/trailer_0/0/0000000540.jpg\n",
      "predictions/trailer_0/0/0000000585.jpg\n",
      "predictions/trailer_0/0/0000000630.jpg\n",
      "predictions/trailer_0/0/0000000675.jpg\n",
      "predictions/trailer_0/0/0000000720.jpg\n",
      "---------------------------------------\n"
     ]
    }
   ],
   "source": [
    "import os, sys, json\n",
    "from flask import Flask, request, jsonify, make_response\n",
    "from waitress import serve\n",
    "import preprocessing as prep\n",
    "import loading_data as ld\n",
    "from model import CNN, LRCN\n",
    "import torch\n",
    "from PIL import Image\n",
    "\n",
    "    \n",
    "apiprefix = \"\"\n",
    "\n",
    "#Specify where model is located\n",
    "MODEL_PATH = './model_weights.pt'\n",
    "UPLOAD_FOLDER = './'\n",
    "\n",
    "ALLOWED_EXTENSIONS = ['mp4', 'mov', 'flv', 'webm']\n",
    "\n",
    "\n",
    "app = Flask(__name__)\n",
    "app.config['UPLOAD_FOLDER'] = UPLOAD_FOLDER\n",
    "\n",
    "model = LRCN()\n",
    "model.load_state_dict(torch.load(MODEL_PATH))\n",
    "model.to('cpu')\n",
    "model.eval() #Switching model to evaluation mode\n",
    "\n",
    "def allowed_format(filename):\n",
    "    return '.' in filename and filename.rsplit('.', 1)[1].lower() in ALLOWED_EXTENSIONS\n",
    "\n",
    "@app.route(\"%s/status\" % apiprefix, methods=['GET'])\n",
    "def check():\n",
    "    return 'OK'\n",
    "\n",
    "@app.route(\"%s/predict\" % apiprefix, methods=['POST'])\n",
    "def predict():\n",
    "    if 'video' not in request.files:\n",
    "        return jsonify({\"status\": \"Error\", \"info\": \"Part 'video' is missing in request\"}), 400\n",
    "    video = request.files['video']\n",
    "    if video.filename == '':\n",
    "        return jsonify({\"status\": \"Error\", \"info\": \"Empty filename\"}), 400\n",
    "    if video and allowed_format(video.filename):\n",
    "        filename = 'trailer.mp4'\n",
    "        video.save(os.path.join(app.config['UPLOAD_FOLDER'], filename))\n",
    "        score = model.predict_single(\"trailer.mp4\")\n",
    "        reply = {'status': 'Success', 'movie_score': score}\n",
    "        return jsonify(reply), 200\n",
    "    return jsonify({\"status\": \"Error\", \"info\": \"Invalid file extension, allowed %s\" % ','.join(str(s) for s in ALLOWED_EXTENSIONS)}), 400\n",
    "    \n",
    "\n",
    "if __name__ == \"__main__\":\n",
    "    serve(app, host=os.getenv('APP_ADDR', '0.0.0.0'), port=int(os.getenv('APP_PORT', 5000)))\n"
   ]
  },
  {
   "cell_type": "code",
   "execution_count": null,
   "metadata": {},
   "outputs": [],
   "source": []
  }
 ],
 "metadata": {
  "kernelspec": {
   "display_name": "py37",
   "language": "python",
   "name": "py37"
  },
  "language_info": {
   "codemirror_mode": {
    "name": "ipython",
    "version": 3
   },
   "file_extension": ".py",
   "mimetype": "text/x-python",
   "name": "python",
   "nbconvert_exporter": "python",
   "pygments_lexer": "ipython3",
   "version": "3.7.9"
  }
 },
 "nbformat": 4,
 "nbformat_minor": 4
}
